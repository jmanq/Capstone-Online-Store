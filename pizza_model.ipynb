{
 "cells": [
  {
   "cell_type": "code",
   "execution_count": 78,
   "metadata": {},
   "outputs": [],
   "source": [
    "import pandas as pd\n",
    "import seaborn as sns\n",
    "import numpy as np"
   ]
  },
  {
   "cell_type": "code",
   "execution_count": 79,
   "metadata": {},
   "outputs": [
    {
     "data": {
      "text/html": [
       "<div>\n",
       "<style scoped>\n",
       "    .dataframe tbody tr th:only-of-type {\n",
       "        vertical-align: middle;\n",
       "    }\n",
       "\n",
       "    .dataframe tbody tr th {\n",
       "        vertical-align: top;\n",
       "    }\n",
       "\n",
       "    .dataframe thead th {\n",
       "        text-align: right;\n",
       "    }\n",
       "</style>\n",
       "<table border=\"1\" class=\"dataframe\">\n",
       "  <thead>\n",
       "    <tr style=\"text-align: right;\">\n",
       "      <th></th>\n",
       "      <th>Size</th>\n",
       "      <th>Cheese</th>\n",
       "      <th>Sauce</th>\n",
       "      <th>Crust</th>\n",
       "      <th>Popularity</th>\n",
       "      <th>Price</th>\n",
       "      <th>Comments</th>\n",
       "      <th>Pizza_ID</th>\n",
       "      <th>topping_1</th>\n",
       "      <th>topping_2</th>\n",
       "      <th>topping_3</th>\n",
       "    </tr>\n",
       "  </thead>\n",
       "  <tbody>\n",
       "    <tr>\n",
       "      <th>0</th>\n",
       "      <td>Large</td>\n",
       "      <td>Yes</td>\n",
       "      <td>No</td>\n",
       "      <td>Thin Crust</td>\n",
       "      <td>3 Stars</td>\n",
       "      <td>21.42</td>\n",
       "      <td>Sample comment</td>\n",
       "      <td>0</td>\n",
       "      <td>Pineapple</td>\n",
       "      <td>Spinach</td>\n",
       "      <td>Mushrooms</td>\n",
       "    </tr>\n",
       "    <tr>\n",
       "      <th>1</th>\n",
       "      <td>Medium</td>\n",
       "      <td>Yes</td>\n",
       "      <td>No</td>\n",
       "      <td>Sicilian</td>\n",
       "      <td>3 Stars</td>\n",
       "      <td>26.40</td>\n",
       "      <td>Sample comment</td>\n",
       "      <td>1</td>\n",
       "      <td>Hot Oil</td>\n",
       "      <td>None</td>\n",
       "      <td>None</td>\n",
       "    </tr>\n",
       "    <tr>\n",
       "      <th>2</th>\n",
       "      <td>Medium</td>\n",
       "      <td>Yes</td>\n",
       "      <td>No</td>\n",
       "      <td>Greek Style</td>\n",
       "      <td>4 Stars</td>\n",
       "      <td>16.56</td>\n",
       "      <td>Sample comment</td>\n",
       "      <td>2</td>\n",
       "      <td>Onions</td>\n",
       "      <td>Mushrooms</td>\n",
       "      <td>Sausage</td>\n",
       "    </tr>\n",
       "    <tr>\n",
       "      <th>3</th>\n",
       "      <td>Small</td>\n",
       "      <td>Yes</td>\n",
       "      <td>No</td>\n",
       "      <td>Deep Dish</td>\n",
       "      <td>3 Stars</td>\n",
       "      <td>24.29</td>\n",
       "      <td>Sample comment</td>\n",
       "      <td>3</td>\n",
       "      <td>Black Olives</td>\n",
       "      <td>Onions</td>\n",
       "      <td>Bacon</td>\n",
       "    </tr>\n",
       "    <tr>\n",
       "      <th>4</th>\n",
       "      <td>Small</td>\n",
       "      <td>Yes</td>\n",
       "      <td>Yes</td>\n",
       "      <td>Deep Dish</td>\n",
       "      <td>2 Stars</td>\n",
       "      <td>19.58</td>\n",
       "      <td>Sample comment</td>\n",
       "      <td>4</td>\n",
       "      <td>Perpperoni</td>\n",
       "      <td>None</td>\n",
       "      <td>None</td>\n",
       "    </tr>\n",
       "  </tbody>\n",
       "</table>\n",
       "</div>"
      ],
      "text/plain": [
       "     Size Cheese Sauce        Crust Popularity  Price        Comments  \\\n",
       "0   Large    Yes    No   Thin Crust    3 Stars  21.42  Sample comment   \n",
       "1  Medium    Yes    No     Sicilian    3 Stars  26.40  Sample comment   \n",
       "2  Medium    Yes    No  Greek Style    4 Stars  16.56  Sample comment   \n",
       "3   Small    Yes    No    Deep Dish    3 Stars  24.29  Sample comment   \n",
       "4   Small    Yes   Yes    Deep Dish    2 Stars  19.58  Sample comment   \n",
       "\n",
       "   Pizza_ID     topping_1  topping_2  topping_3  \n",
       "0         0     Pineapple    Spinach  Mushrooms  \n",
       "1         1       Hot Oil       None       None  \n",
       "2         2        Onions  Mushrooms    Sausage  \n",
       "3         3  Black Olives     Onions      Bacon  \n",
       "4         4    Perpperoni       None       None  "
      ]
     },
     "execution_count": 79,
     "metadata": {},
     "output_type": "execute_result"
    }
   ],
   "source": [
    "raw_data = pd.read_json(\"pizza_data.json\")\n",
    "df = pd.DataFrame(raw_data)\n",
    "df.head()"
   ]
  },
  {
   "cell_type": "code",
   "execution_count": 80,
   "metadata": {},
   "outputs": [
    {
     "name": "stdout",
     "output_type": "stream",
     "text": [
      "Defaulting to user installation because normal site-packages is not writeableNote: you may need to restart the kernel to use updated packages.\n"
     ]
    },
    {
     "name": "stderr",
     "output_type": "stream",
     "text": [
      "\n",
      "[notice] A new release of pip is available: 24.0 -> 24.1.2\n",
      "[notice] To update, run: python.exe -m pip install --upgrade pip\n"
     ]
    },
    {
     "name": "stdout",
     "output_type": "stream",
     "text": [
      "\n",
      "Requirement already satisfied: scikit-learn in c:\\users\\wasadmin\\appdata\\roaming\\python\\python312\\site-packages (1.5.1)\n",
      "Requirement already satisfied: numpy>=1.19.5 in c:\\users\\wasadmin\\appdata\\roaming\\python\\python312\\site-packages (from scikit-learn) (1.26.4)\n",
      "Requirement already satisfied: scipy>=1.6.0 in c:\\users\\wasadmin\\appdata\\roaming\\python\\python312\\site-packages (from scikit-learn) (1.14.0)\n",
      "Requirement already satisfied: joblib>=1.2.0 in c:\\users\\wasadmin\\appdata\\roaming\\python\\python312\\site-packages (from scikit-learn) (1.4.2)\n",
      "Requirement already satisfied: threadpoolctl>=3.1.0 in c:\\users\\wasadmin\\appdata\\roaming\\python\\python312\\site-packages (from scikit-learn) (3.5.0)\n"
     ]
    }
   ],
   "source": [
    " pip install scikit-learn"
   ]
  },
  {
   "cell_type": "code",
   "execution_count": 81,
   "metadata": {},
   "outputs": [],
   "source": [
    "from sklearn.model_selection import train_test_split\n",
    "from sklearn.neighbors import NearestNeighbors\n",
    "from sklearn.preprocessing import OneHotEncoder\n",
    "from sklearn.compose import ColumnTransformer\n",
    "from sklearn.metrics import accuracy_score"
   ]
  },
  {
   "cell_type": "code",
   "execution_count": 82,
   "metadata": {},
   "outputs": [
    {
     "name": "stdout",
     "output_type": "stream",
     "text": [
      "[5 4 8 2]\n"
     ]
    }
   ],
   "source": [
    "features = ['Size', 'Cheese', 'Sauce', 'Crust', 'Popularity', 'Price', 'Pizza_ID', 'topping_1', 'topping_2', 'topping_3']\n",
    "\n",
    "X = df[features]\n",
    "X_encoded = pd.get_dummies(X)\n",
    "\n",
    "nbrs = NearestNeighbors(n_neighbors=4, algorithm='ball_tree').fit(X_encoded)\n",
    "distances, indices  = nbrs.kneighbors(X_encoded)\n",
    "\n",
    "print(indices[5])"
   ]
  },
  {
   "cell_type": "code",
   "execution_count": 83,
   "metadata": {},
   "outputs": [
    {
     "name": "stdout",
     "output_type": "stream",
     "text": [
      "[58 61 53]\n"
     ]
    },
    {
     "data": {
      "text/html": [
       "<div>\n",
       "<style scoped>\n",
       "    .dataframe tbody tr th:only-of-type {\n",
       "        vertical-align: middle;\n",
       "    }\n",
       "\n",
       "    .dataframe tbody tr th {\n",
       "        vertical-align: top;\n",
       "    }\n",
       "\n",
       "    .dataframe thead th {\n",
       "        text-align: right;\n",
       "    }\n",
       "</style>\n",
       "<table border=\"1\" class=\"dataframe\">\n",
       "  <thead>\n",
       "    <tr style=\"text-align: right;\">\n",
       "      <th></th>\n",
       "      <th>Size</th>\n",
       "      <th>Cheese</th>\n",
       "      <th>Sauce</th>\n",
       "      <th>Crust</th>\n",
       "      <th>Popularity</th>\n",
       "      <th>Price</th>\n",
       "      <th>Comments</th>\n",
       "      <th>Pizza_ID</th>\n",
       "      <th>topping_1</th>\n",
       "      <th>topping_2</th>\n",
       "      <th>topping_3</th>\n",
       "    </tr>\n",
       "  </thead>\n",
       "  <tbody>\n",
       "    <tr>\n",
       "      <th>53</th>\n",
       "      <td>Large</td>\n",
       "      <td>No</td>\n",
       "      <td>No</td>\n",
       "      <td>Greek Style</td>\n",
       "      <td>5 Stars</td>\n",
       "      <td>25.03</td>\n",
       "      <td>Sample comment</td>\n",
       "      <td>53</td>\n",
       "      <td>Spinach</td>\n",
       "      <td>Onions</td>\n",
       "      <td>Extra Cheese</td>\n",
       "    </tr>\n",
       "    <tr>\n",
       "      <th>58</th>\n",
       "      <td>Small</td>\n",
       "      <td>No</td>\n",
       "      <td>Yes</td>\n",
       "      <td>Thick Crust</td>\n",
       "      <td>2 Stars</td>\n",
       "      <td>25.15</td>\n",
       "      <td>Sample comment</td>\n",
       "      <td>58</td>\n",
       "      <td>None</td>\n",
       "      <td>None</td>\n",
       "      <td>None</td>\n",
       "    </tr>\n",
       "    <tr>\n",
       "      <th>61</th>\n",
       "      <td>Extra Large</td>\n",
       "      <td>No</td>\n",
       "      <td>No</td>\n",
       "      <td>Thin Crust</td>\n",
       "      <td>5 Stars</td>\n",
       "      <td>27.49</td>\n",
       "      <td>Sample comment</td>\n",
       "      <td>61</td>\n",
       "      <td>Extra Cheese</td>\n",
       "      <td>Onions</td>\n",
       "      <td>Green Peppers</td>\n",
       "    </tr>\n",
       "  </tbody>\n",
       "</table>\n",
       "</div>"
      ],
      "text/plain": [
       "           Size Cheese Sauce        Crust Popularity  Price        Comments  \\\n",
       "53        Large     No    No  Greek Style    5 Stars  25.03  Sample comment   \n",
       "58        Small     No   Yes  Thick Crust    2 Stars  25.15  Sample comment   \n",
       "61  Extra Large     No    No   Thin Crust    5 Stars  27.49  Sample comment   \n",
       "\n",
       "    Pizza_ID     topping_1 topping_2      topping_3  \n",
       "53        53       Spinach    Onions   Extra Cheese  \n",
       "58        58          None      None           None  \n",
       "61        61  Extra Cheese    Onions  Green Peppers  "
      ]
     },
     "metadata": {},
     "output_type": "display_data"
    }
   ],
   "source": [
    "def getNeighbors(pizza_id):\n",
    "    neighbors = indices[pizza_id]\n",
    "    new_neighbors = np.delete(neighbors, 0)\n",
    "    print(new_neighbors)\n",
    "    result = df.query('Pizza_ID in @new_neighbors')\n",
    "    result.reset_index()\n",
    "    display(result)\n",
    "    json_file = \"recs_results.json\"\n",
    "    result.to_json(json_file, orient=\"records\")\n",
    "        \n",
    "getNeighbors(56)\n"
   ]
  },
  {
   "cell_type": "code",
   "execution_count": 84,
   "metadata": {},
   "outputs": [],
   "source": [
    "import pickle\n",
    "\n",
    "# Specify the file path to save the pipeline\n",
    "file_path = 'trained_model.pkl'\n",
    "\n",
    "# Save the pipeline to disk\n",
    "with open(file_path, 'wb') as file:\n",
    "    pickle.dump(nbrs, file)"
   ]
  },
  {
   "cell_type": "code",
   "execution_count": 85,
   "metadata": {},
   "outputs": [],
   "source": [
    "with open('trained_model.pkl', 'rb') as file:\n",
    "    model = pickle.load(file)\n",
    "\n",
    "distances, indices  = model.kneighbors(X_encoded)\n",
    "\n"
   ]
  },
  {
   "cell_type": "code",
   "execution_count": null,
   "metadata": {},
   "outputs": [],
   "source": []
  }
 ],
 "metadata": {
  "kernelspec": {
   "display_name": "Python 3",
   "language": "python",
   "name": "python3"
  },
  "language_info": {
   "codemirror_mode": {
    "name": "ipython",
    "version": 3
   },
   "file_extension": ".py",
   "mimetype": "text/x-python",
   "name": "python",
   "nbconvert_exporter": "python",
   "pygments_lexer": "ipython3",
   "version": "3.12.3"
  }
 },
 "nbformat": 4,
 "nbformat_minor": 2
}
