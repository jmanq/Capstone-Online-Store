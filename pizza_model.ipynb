{
 "cells": [
  {
   "cell_type": "code",
   "execution_count": 29,
   "metadata": {},
   "outputs": [],
   "source": [
    "import pandas as pd\n",
    "import seaborn as sns\n",
    "import numpy as np"
   ]
  },
  {
   "cell_type": "code",
   "execution_count": 2,
   "metadata": {},
   "outputs": [
    {
     "data": {
      "text/html": [
       "<div>\n",
       "<style scoped>\n",
       "    .dataframe tbody tr th:only-of-type {\n",
       "        vertical-align: middle;\n",
       "    }\n",
       "\n",
       "    .dataframe tbody tr th {\n",
       "        vertical-align: top;\n",
       "    }\n",
       "\n",
       "    .dataframe thead th {\n",
       "        text-align: right;\n",
       "    }\n",
       "</style>\n",
       "<table border=\"1\" class=\"dataframe\">\n",
       "  <thead>\n",
       "    <tr style=\"text-align: right;\">\n",
       "      <th></th>\n",
       "      <th>Size</th>\n",
       "      <th>Cheese</th>\n",
       "      <th>Sauce</th>\n",
       "      <th>Crust</th>\n",
       "      <th>Popularity</th>\n",
       "      <th>Price</th>\n",
       "      <th>Comments</th>\n",
       "      <th>Pizza_ID</th>\n",
       "      <th>topping_1</th>\n",
       "      <th>topping_2</th>\n",
       "      <th>topping_3</th>\n",
       "    </tr>\n",
       "  </thead>\n",
       "  <tbody>\n",
       "    <tr>\n",
       "      <th>0</th>\n",
       "      <td>Extra Large</td>\n",
       "      <td>No</td>\n",
       "      <td>Yes</td>\n",
       "      <td>Thin Crust</td>\n",
       "      <td>3 Stars</td>\n",
       "      <td>27.90</td>\n",
       "      <td>Sample comment</td>\n",
       "      <td>2</td>\n",
       "      <td>Black Olives</td>\n",
       "      <td>Sausage</td>\n",
       "      <td>Perpperoni</td>\n",
       "    </tr>\n",
       "    <tr>\n",
       "      <th>1</th>\n",
       "      <td>Large</td>\n",
       "      <td>No</td>\n",
       "      <td>Yes</td>\n",
       "      <td>Stuffed Crust</td>\n",
       "      <td>5 Stars</td>\n",
       "      <td>16.48</td>\n",
       "      <td>Sample comment</td>\n",
       "      <td>3</td>\n",
       "      <td>Spinach</td>\n",
       "      <td>None</td>\n",
       "      <td>None</td>\n",
       "    </tr>\n",
       "    <tr>\n",
       "      <th>2</th>\n",
       "      <td>Large</td>\n",
       "      <td>No</td>\n",
       "      <td>No</td>\n",
       "      <td>Greek Style</td>\n",
       "      <td>5 Stars</td>\n",
       "      <td>17.27</td>\n",
       "      <td>Sample comment</td>\n",
       "      <td>4</td>\n",
       "      <td>Red Peppers</td>\n",
       "      <td>Spinach</td>\n",
       "      <td>Hot Oil</td>\n",
       "    </tr>\n",
       "    <tr>\n",
       "      <th>3</th>\n",
       "      <td>Large</td>\n",
       "      <td>No</td>\n",
       "      <td>No</td>\n",
       "      <td>Deep Dish</td>\n",
       "      <td>1 Star</td>\n",
       "      <td>10.33</td>\n",
       "      <td>Sample comment</td>\n",
       "      <td>5</td>\n",
       "      <td>Green Peppers</td>\n",
       "      <td>None</td>\n",
       "      <td>None</td>\n",
       "    </tr>\n",
       "    <tr>\n",
       "      <th>4</th>\n",
       "      <td>Medium</td>\n",
       "      <td>No</td>\n",
       "      <td>No</td>\n",
       "      <td>Greek Style</td>\n",
       "      <td>4 Stars</td>\n",
       "      <td>13.19</td>\n",
       "      <td>Sample comment</td>\n",
       "      <td>6</td>\n",
       "      <td>Hot Oil</td>\n",
       "      <td>Mushrooms</td>\n",
       "      <td>Pineapple</td>\n",
       "    </tr>\n",
       "  </tbody>\n",
       "</table>\n",
       "</div>"
      ],
      "text/plain": [
       "          Size Cheese Sauce          Crust Popularity  Price        Comments  \\\n",
       "0  Extra Large     No   Yes     Thin Crust    3 Stars  27.90  Sample comment   \n",
       "1        Large     No   Yes  Stuffed Crust    5 Stars  16.48  Sample comment   \n",
       "2        Large     No    No    Greek Style    5 Stars  17.27  Sample comment   \n",
       "3        Large     No    No      Deep Dish     1 Star  10.33  Sample comment   \n",
       "4       Medium     No    No    Greek Style    4 Stars  13.19  Sample comment   \n",
       "\n",
       "   Pizza_ID      topping_1  topping_2   topping_3  \n",
       "0         2   Black Olives    Sausage  Perpperoni  \n",
       "1         3        Spinach       None        None  \n",
       "2         4    Red Peppers    Spinach     Hot Oil  \n",
       "3         5  Green Peppers       None        None  \n",
       "4         6        Hot Oil  Mushrooms   Pineapple  "
      ]
     },
     "execution_count": 2,
     "metadata": {},
     "output_type": "execute_result"
    }
   ],
   "source": [
    "raw_data = pd.read_json(\"pizza_data.json\")\n",
    "df = pd.DataFrame(raw_data)\n",
    "df.head()"
   ]
  },
  {
   "cell_type": "code",
   "execution_count": 3,
   "metadata": {},
   "outputs": [
    {
     "name": "stdout",
     "output_type": "stream",
     "text": [
      "Note: you may need to restart the kernel to use updated packages.\n",
      "Defaulting to user installation because normal site-packages is not writeable\n",
      "Requirement already satisfied: scikit-learn in c:\\users\\wasadmin\\appdata\\roaming\\python\\python312\\site-packages (1.5.1)\n",
      "Requirement already satisfied: numpy>=1.19.5 in c:\\users\\wasadmin\\appdata\\roaming\\python\\python312\\site-packages (from scikit-learn) (1.26.4)\n",
      "Requirement already satisfied: scipy>=1.6.0 in c:\\users\\wasadmin\\appdata\\roaming\\python\\python312\\site-packages (from scikit-learn) (1.14.0)\n",
      "Requirement already satisfied: joblib>=1.2.0 in c:\\users\\wasadmin\\appdata\\roaming\\python\\python312\\site-packages (from scikit-learn) (1.4.2)\n",
      "Requirement already satisfied: threadpoolctl>=3.1.0 in c:\\users\\wasadmin\\appdata\\roaming\\python\\python312\\site-packages (from scikit-learn) (3.5.0)\n"
     ]
    },
    {
     "name": "stderr",
     "output_type": "stream",
     "text": [
      "\n",
      "[notice] A new release of pip is available: 24.0 -> 24.1.2\n",
      "[notice] To update, run: python.exe -m pip install --upgrade pip\n"
     ]
    }
   ],
   "source": [
    " pip install scikit-learn"
   ]
  },
  {
   "cell_type": "code",
   "execution_count": 4,
   "metadata": {},
   "outputs": [],
   "source": [
    "from sklearn.model_selection import train_test_split\n",
    "from sklearn.neighbors import NearestNeighbors\n",
    "from sklearn.preprocessing import OneHotEncoder\n",
    "from sklearn.compose import ColumnTransformer\n",
    "from sklearn.metrics import accuracy_score"
   ]
  },
  {
   "cell_type": "code",
   "execution_count": 33,
   "metadata": {},
   "outputs": [
    {
     "name": "stdout",
     "output_type": "stream",
     "text": [
      "[5 2 7 1]\n"
     ]
    }
   ],
   "source": [
    "features = ['Size', 'Cheese', 'Sauce', 'Crust', 'Popularity', 'Price', 'Pizza_ID', 'topping_1', 'topping_2', 'topping_3']\n",
    "\n",
    "X = df[features]\n",
    "X_encoded = pd.get_dummies(X)\n",
    "\n",
    "nbrs = NearestNeighbors(n_neighbors=4, algorithm='ball_tree').fit(X_encoded)\n",
    "distances, indices  = nbrs.kneighbors(X_encoded)\n",
    "\n",
    "print(indices[5])"
   ]
  },
  {
   "cell_type": "code",
   "execution_count": 66,
   "metadata": {},
   "outputs": [
    {
     "name": "stdout",
     "output_type": "stream",
     "text": [
      "[55 54 57]\n"
     ]
    },
    {
     "data": {
      "text/html": [
       "<div>\n",
       "<style scoped>\n",
       "    .dataframe tbody tr th:only-of-type {\n",
       "        vertical-align: middle;\n",
       "    }\n",
       "\n",
       "    .dataframe tbody tr th {\n",
       "        vertical-align: top;\n",
       "    }\n",
       "\n",
       "    .dataframe thead th {\n",
       "        text-align: right;\n",
       "    }\n",
       "</style>\n",
       "<table border=\"1\" class=\"dataframe\">\n",
       "  <thead>\n",
       "    <tr style=\"text-align: right;\">\n",
       "      <th></th>\n",
       "      <th>Size</th>\n",
       "      <th>Cheese</th>\n",
       "      <th>Sauce</th>\n",
       "      <th>Crust</th>\n",
       "      <th>Popularity</th>\n",
       "      <th>Price</th>\n",
       "      <th>Comments</th>\n",
       "      <th>Pizza_ID</th>\n",
       "      <th>topping_1</th>\n",
       "      <th>topping_2</th>\n",
       "      <th>topping_3</th>\n",
       "    </tr>\n",
       "  </thead>\n",
       "  <tbody>\n",
       "    <tr>\n",
       "      <th>52</th>\n",
       "      <td>Large</td>\n",
       "      <td>Yes</td>\n",
       "      <td>No</td>\n",
       "      <td>Gluten Free</td>\n",
       "      <td>4 Stars</td>\n",
       "      <td>20.48</td>\n",
       "      <td>Sample comment</td>\n",
       "      <td>54</td>\n",
       "      <td>None</td>\n",
       "      <td>None</td>\n",
       "      <td>None</td>\n",
       "    </tr>\n",
       "    <tr>\n",
       "      <th>53</th>\n",
       "      <td>Small</td>\n",
       "      <td>Yes</td>\n",
       "      <td>No</td>\n",
       "      <td>Sicilian</td>\n",
       "      <td>3 Stars</td>\n",
       "      <td>16.78</td>\n",
       "      <td>Sample comment</td>\n",
       "      <td>55</td>\n",
       "      <td>Mushrooms</td>\n",
       "      <td>None</td>\n",
       "      <td>None</td>\n",
       "    </tr>\n",
       "    <tr>\n",
       "      <th>55</th>\n",
       "      <td>Large</td>\n",
       "      <td>Yes</td>\n",
       "      <td>No</td>\n",
       "      <td>Deep Dish</td>\n",
       "      <td>4 Stars</td>\n",
       "      <td>21.78</td>\n",
       "      <td>Sample comment</td>\n",
       "      <td>57</td>\n",
       "      <td>Red Peppers</td>\n",
       "      <td>None</td>\n",
       "      <td>None</td>\n",
       "    </tr>\n",
       "  </tbody>\n",
       "</table>\n",
       "</div>"
      ],
      "text/plain": [
       "     Size Cheese Sauce        Crust Popularity  Price        Comments  \\\n",
       "52  Large    Yes    No  Gluten Free    4 Stars  20.48  Sample comment   \n",
       "53  Small    Yes    No     Sicilian    3 Stars  16.78  Sample comment   \n",
       "55  Large    Yes    No    Deep Dish    4 Stars  21.78  Sample comment   \n",
       "\n",
       "    Pizza_ID    topping_1 topping_2 topping_3  \n",
       "52        54         None      None      None  \n",
       "53        55    Mushrooms      None      None  \n",
       "55        57  Red Peppers      None      None  "
      ]
     },
     "metadata": {},
     "output_type": "display_data"
    }
   ],
   "source": [
    "def getNeighbors(pizza_id):\n",
    "    neighbors = indices[pizza_id]\n",
    "    new_neighbors = np.delete(neighbors, 0)\n",
    "    print(new_neighbors)\n",
    "    result = df.query('Pizza_ID in @new_neighbors')\n",
    "    result.reset_index()\n",
    "    display(result)\n",
    "    json_file = \"recs_results.json\"\n",
    "    result.to_json(json_file, orient=\"records\")\n",
    "        \n",
    "getNeighbors(56)\n"
   ]
  },
  {
   "cell_type": "code",
   "execution_count": 67,
   "metadata": {},
   "outputs": [],
   "source": [
    "import pickle\n",
    "\n",
    "# Specify the file path to save the pipeline\n",
    "file_path = 'trained_model.pkl'\n",
    "\n",
    "# Save the pipeline to disk\n",
    "with open(file_path, 'wb') as file:\n",
    "    pickle.dump(nbrs, file)"
   ]
  },
  {
   "cell_type": "code",
   "execution_count": 69,
   "metadata": {},
   "outputs": [
    {
     "name": "stdout",
     "output_type": "stream",
     "text": [
      "[5 2 7 1]\n"
     ]
    }
   ],
   "source": [
    "with open('trained_model.pkl', 'rb') as file:\n",
    "    model = pickle.load(file)\n",
    "\n",
    "distances, indices  = model.kneighbors(X_encoded)\n",
    "\n"
   ]
  },
  {
   "cell_type": "code",
   "execution_count": null,
   "metadata": {},
   "outputs": [],
   "source": []
  }
 ],
 "metadata": {
  "kernelspec": {
   "display_name": "Python 3",
   "language": "python",
   "name": "python3"
  },
  "language_info": {
   "codemirror_mode": {
    "name": "ipython",
    "version": 3
   },
   "file_extension": ".py",
   "mimetype": "text/x-python",
   "name": "python",
   "nbconvert_exporter": "python",
   "pygments_lexer": "ipython3",
   "version": "3.12.3"
  }
 },
 "nbformat": 4,
 "nbformat_minor": 2
}
